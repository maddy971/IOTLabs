{
 "cells": [
  {
   "cell_type": "code",
   "execution_count": 1,
   "id": "8e54fb99-d951-4503-8e5b-00bc708d1d39",
   "metadata": {},
   "outputs": [
    {
     "ename": "ModuleNotFoundError",
     "evalue": "No module named 'RPi'",
     "output_type": "error",
     "traceback": [
      "\u001b[1;31m---------------------------------------------------------------------------\u001b[0m",
      "\u001b[1;31mModuleNotFoundError\u001b[0m                       Traceback (most recent call last)",
      "Cell \u001b[1;32mIn[1], line 4\u001b[0m\n\u001b[0;32m      1\u001b[0m \u001b[38;5;66;03m#input from two switch on corresponding LED's program\u001b[39;00m\n\u001b[0;32m      3\u001b[0m \u001b[38;5;28;01mimport\u001b[39;00m \u001b[38;5;21;01mtime\u001b[39;00m\n\u001b[1;32m----> 4\u001b[0m \u001b[38;5;28;01mimport\u001b[39;00m \u001b[38;5;21;01mRPi\u001b[39;00m\u001b[38;5;21;01m.\u001b[39;00m\u001b[38;5;21;01mGPIO\u001b[39;00m \u001b[38;5;28;01mas\u001b[39;00m \u001b[38;5;21;01mgpio\u001b[39;00m\n\u001b[0;32m      6\u001b[0m gpio\u001b[38;5;241m.\u001b[39msetwarnings(\u001b[38;5;28;01mFalse\u001b[39;00m)\n\u001b[0;32m      7\u001b[0m gpio\u001b[38;5;241m.\u001b[39msetmode(gpio\u001b[38;5;241m.\u001b[39mBOARD)\n",
      "\u001b[1;31mModuleNotFoundError\u001b[0m: No module named 'RPi'"
     ]
    }
   ],
   "source": [
    "#input from two switch on corresponding LED's program\n",
    "\n",
    "import time\n",
    "import RPi.GPIO as gpio\n",
    "\n",
    "gpio.setwarnings(False)\n",
    "gpio.setmode(gpio.BOARD)\n",
    "\n",
    "led1=15\n",
    "led2=13\n",
    "switch1=37\n",
    "switch2=35\n",
    "\n",
    "gpio.setup(led1.gpio.OUT,initial=0)\n",
    "gpio.setup(led2.gpio.OUT,initial=0)\n",
    "gpio.setup(switch1.gpio.IN)\n",
    "gpio.setup(switch2.gpio.IN)\n",
    "\n",
    "def glow_led(event):\n",
    "    if event==switch1:\n",
    "        gpio.output(led1,True)\n",
    "        time.sleep(2)\n",
    "        gpio.output(led1,False)\n",
    "\n",
    "    elif event==switch2:\n",
    "        gpio.output(led2,True)\n",
    "        time.sleep(3)\n",
    "        gpio.output(led2,False)\n",
    "\n",
    "gpio.add_event_detect(switch1,gpio.RISING,callback=glow_led,bouncetime=1)\n",
    "gpio.add_event_detect(switch2,gpio.RISING,callback=glow_led,bouncetime=1)\n",
    "\n",
    "try:\n",
    "    while(True):\n",
    "        time.sleep(1)\n",
    "except KeyboardInterrupt:\n",
    "    gpio.cleanup()\n",
    "    "
   ]
  },
  {
   "cell_type": "code",
   "execution_count": null,
   "id": "6769e3f9-cbe1-458c-8329-1748e1b88601",
   "metadata": {},
   "outputs": [],
   "source": []
  }
 ],
 "metadata": {
  "kernelspec": {
   "display_name": "Python [conda env:base] *",
   "language": "python",
   "name": "conda-base-py"
  },
  "language_info": {
   "codemirror_mode": {
    "name": "ipython",
    "version": 3
   },
   "file_extension": ".py",
   "mimetype": "text/x-python",
   "name": "python",
   "nbconvert_exporter": "python",
   "pygments_lexer": "ipython3",
   "version": "3.12.7"
  }
 },
 "nbformat": 4,
 "nbformat_minor": 5
}
