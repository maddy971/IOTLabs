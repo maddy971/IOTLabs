{
 "cells": [
  {
   "cell_type": "code",
   "execution_count": null,
   "id": "b42f622c-17ae-42b5-8b97-4af8469ababe",
   "metadata": {},
   "outputs": [],
   "source": [
    "import time\n",
    "import RPi.GPIO as gpio\n",
    "\n",
    "gpio.setwarnings(False)\n",
    "gpio.setmode(gpio.BOARD)\n",
    "\n",
    "led1=15\n",
    "gpio.setup(led1,gpio.OUT,initial=0)\n",
    "\n",
    "file=open('ledintervals.txt','r')\n",
    "Lines=file.readlines()\n",
    "\n",
    "ON_TIME=int(Lines[0].split(\"=\")[1])\n",
    "OFF_TIME=int(Lines[1].split(\"=\")[1])\n",
    "\n",
    "try:\n",
    "    while(True):\n",
    "        gpio.output(led1,True)\n",
    "        time.sleep(ON_TIME)\n",
    "        gpio.output(led1,False)\n",
    "        time.sleep(OFF_TIME)\n",
    "\n",
    "except KeyboardInterrupt:\n",
    "    gpio.cleanup()\n",
    "\n",
    "\n",
    "ledintervals.txt\n",
    "ontime=5\n",
    "offtime=7"
   ]
  }
 ],
 "metadata": {
  "kernelspec": {
   "display_name": "Python [conda env:base] *",
   "language": "python",
   "name": "conda-base-py"
  },
  "language_info": {
   "codemirror_mode": {
    "name": "ipython",
    "version": 3
   },
   "file_extension": ".py",
   "mimetype": "text/x-python",
   "name": "python",
   "nbconvert_exporter": "python",
   "pygments_lexer": "ipython3",
   "version": "3.12.7"
  }
 },
 "nbformat": 4,
 "nbformat_minor": 5
}
