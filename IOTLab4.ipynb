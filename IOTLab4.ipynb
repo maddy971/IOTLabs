{
 "cells": [
  {
   "cell_type": "code",
   "execution_count": null,
   "id": "1ff2f829-1615-49ff-a958-587f59a7888f",
   "metadata": {},
   "outputs": [],
   "source": [
    "import RPi.GPIO as gpio\n",
    "import time\n",
    "\n",
    "gpio.setwarnings(False)\n",
    "gpio.setmode(gpio.BOARD)\n",
    "\n",
    "relay = 38\n",
    "gpio.setup(relay,gpio.OUT,initial=0)\n",
    "try:\n",
    "     gpio.output(relay,True) print(\"Relay is on\")\n",
    "     time.sleep(5)\n",
    "     print(\"Relay is off\") gpio.output(relay, False)\n",
    "    \n",
    "except KeyboardInterrupt:\n",
    "     gpio.cleanup()\n",
    "     print(“program exited”)\n"
   ]
  }
 ],
 "metadata": {
  "kernelspec": {
   "display_name": "Python [conda env:base] *",
   "language": "python",
   "name": "conda-base-py"
  },
  "language_info": {
   "codemirror_mode": {
    "name": "ipython",
    "version": 3
   },
   "file_extension": ".py",
   "mimetype": "text/x-python",
   "name": "python",
   "nbconvert_exporter": "python",
   "pygments_lexer": "ipython3",
   "version": "3.12.7"
  }
 },
 "nbformat": 4,
 "nbformat_minor": 5
}
