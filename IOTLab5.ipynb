{
 "cells": [
  {
   "cell_type": "code",
   "execution_count": null,
   "id": "cc3af6a9-8f08-44a2-bcc6-90c199fa7c77",
   "metadata": {},
   "outputs": [],
   "source": [
    "from picamera import Picamera\n",
    "from time import sleep\n",
    "import datetime\n",
    "\n",
    "camera=Picamera()\n",
    "camera.start_preview()\n",
    "current_date=datetime.datetime.now().strftime('%d-%m-%y %H:%M:%S')\n",
    "sleep(7)\n",
    "\n",
    "camera.capture('/home/pi/Dekstop/MCA_KLECET_IOT/images' + current_date + '.jpg')\n",
    "camera.stop_preview()\n",
    "print(\"Click by Madivalappa\")\n",
    "sleep(2)"
   ]
  }
 ],
 "metadata": {
  "kernelspec": {
   "display_name": "Python [conda env:base] *",
   "language": "python",
   "name": "conda-base-py"
  },
  "language_info": {
   "codemirror_mode": {
    "name": "ipython",
    "version": 3
   },
   "file_extension": ".py",
   "mimetype": "text/x-python",
   "name": "python",
   "nbconvert_exporter": "python",
   "pygments_lexer": "ipython3",
   "version": "3.12.7"
  }
 },
 "nbformat": 4,
 "nbformat_minor": 5
}
