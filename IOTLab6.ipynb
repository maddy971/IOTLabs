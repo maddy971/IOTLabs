{
 "cells": [
  {
   "cell_type": "code",
   "execution_count": 1,
   "id": "0f6f271c-ea58-4a3a-abd2-4baeb1738f86",
   "metadata": {},
   "outputs": [
    {
     "ename": "ModuleNotFoundError",
     "evalue": "No module named 'RPi'",
     "output_type": "error",
     "traceback": [
      "\u001b[1;31m---------------------------------------------------------------------------\u001b[0m",
      "\u001b[1;31mModuleNotFoundError\u001b[0m                       Traceback (most recent call last)",
      "Cell \u001b[1;32mIn[1], line 1\u001b[0m\n\u001b[1;32m----> 1\u001b[0m \u001b[38;5;28;01mimport\u001b[39;00m \u001b[38;5;21;01mRPi\u001b[39;00m\u001b[38;5;21;01m.\u001b[39;00m\u001b[38;5;21;01mGPIO\u001b[39;00m \u001b[38;5;28;01mas\u001b[39;00m \u001b[38;5;21;01mGPIO\u001b[39;00m\n\u001b[0;32m      2\u001b[0m \u001b[38;5;28;01mimport\u001b[39;00m \u001b[38;5;21;01mtime\u001b[39;00m\n\u001b[0;32m      3\u001b[0m \u001b[38;5;28;01mimport\u001b[39;00m \u001b[38;5;21;01mdatetime\u001b[39;00m\n",
      "\u001b[1;31mModuleNotFoundError\u001b[0m: No module named 'RPi'"
     ]
    }
   ],
   "source": [
    "import RPi.GPIO as GPIO\n",
    "import time\n",
    "import datetime\n",
    "from flask import Flask, render_template  # Importing Flask\n",
    "\n",
    "# Set up LED on pin 13 (physical pin 13 = GPIO27 on BCM)\n",
    "led = 13\n",
    "GPIO.setmode(GPIO.BOARD)\n",
    "GPIO.setwarnings(False)\n",
    "GPIO.setup(led, GPIO.OUT, initial=0)\n",
    "\n",
    "# Create Flask web app\n",
    "app = Flask(__name__)\n",
    "\n",
    "@app.route('/')  # Home route\n",
    "def hello_world():\n",
    "    return render_template('web.html')\n",
    "\n",
    "@app.route('/redledon')  # Route to turn red LED ON\n",
    "def redledon():\n",
    "    GPIO.output(13, GPIO.HIGH)\n",
    "    now = datetime.datetime.now()\n",
    "    timeString = now.strftime(\"%Y-%m-%d %H:%M\")\n",
    "    templateData = {\n",
    "        'status': 'ON',\n",
    "        'time': timeString\n",
    "    }\n",
    "    return render_template('web.html', **templateData)\n",
    "\n",
    "@app.route('/redledoff')  # Route to turn red LED OFF\n",
    "def redledoff():\n",
    "    GPIO.output(13, GPIO.LOW)\n",
    "    now = datetime.datetime.now()\n",
    "    timeString = now.strftime(\"%Y-%m-%d %H:%M\")\n",
    "    templateData = {\n",
    "        'status': 'OFF',\n",
    "        'time': timeString\n",
    "    }\n",
    "    return render_template('web.html', **templateData)\n",
    "\n",
    "if __name__ == \"__main__\":\n",
    "    app.run(debug=True, port=4000, host='192.168.0.71')\n",
    "\n",
    "\n",
    "\n",
    "#web.html\n",
    "<!DOCTYPE html>\n",
    "<html>\n",
    "<head>\n",
    "    <title>Raspberry Pi Remote Control</title>\n",
    "</head>\n",
    "<body>\n",
    "    <h1>Raspberry Pi Remote Control</h1>\n",
    "    <h2>Light Status: {{status}}, Last Modified: {{time}}</h2>\n",
    "\n",
    "    <form action=\"http://169.254.63.253:4000/redledon\">\n",
    "        <input type=\"submit\" value=\"Red LED ON\">\n",
    "    </form>\n",
    "\n",
    "    <form action=\"http://169.254.63.253:4000/redledoff\">\n",
    "        <input type=\"submit\" value=\"Red LED OFF\">\n",
    "    </form>\n",
    "</body>\n",
    "</html>\n"
   ]
  },
  {
   "cell_type": "code",
   "execution_count": null,
   "id": "ae3d772e-f5d8-4768-8954-d36a526eec49",
   "metadata": {},
   "outputs": [],
   "source": []
  }
 ],
 "metadata": {
  "kernelspec": {
   "display_name": "Python [conda env:base] *",
   "language": "python",
   "name": "conda-base-py"
  },
  "language_info": {
   "codemirror_mode": {
    "name": "ipython",
    "version": 3
   },
   "file_extension": ".py",
   "mimetype": "text/x-python",
   "name": "python",
   "nbconvert_exporter": "python",
   "pygments_lexer": "ipython3",
   "version": "3.12.7"
  }
 },
 "nbformat": 4,
 "nbformat_minor": 5
}
