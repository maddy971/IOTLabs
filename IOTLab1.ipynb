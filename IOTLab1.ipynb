{
 "cells": [
  {
   "cell_type": "code",
   "execution_count": 5,
   "id": "2b121d64-63cd-4623-b2f6-8c9115244d51",
   "metadata": {},
   "outputs": [
    {
     "name": "stdin",
     "output_type": "stream",
     "text": [
      "Enter your name:  Madu\n"
     ]
    },
    {
     "name": "stdout",
     "output_type": "stream",
     "text": [
      "Hello! Madu\n"
     ]
    }
   ],
   "source": [
    "#1A\n",
    "name = input(\"Enter your name: \")\n",
    "print(\"Hello!\",name)"
   ]
  },
  {
   "cell_type": "code",
   "execution_count": 7,
   "id": "85decf0d-50e2-4c23-953d-6cd22350f607",
   "metadata": {},
   "outputs": [
    {
     "name": "stdin",
     "output_type": "stream",
     "text": [
      "Enter first number:  20\n",
      "Enter second number:  23\n"
     ]
    },
    {
     "name": "stdout",
     "output_type": "stream",
     "text": [
      "sum of given numbers:  43\n",
      "sum of given numbers:  -3\n",
      "sum of given numbers:  460\n",
      "sum of given numbers:  0.8695652173913043\n"
     ]
    }
   ],
   "source": [
    "#1B\n",
    "num1=int(input(\"Enter first number: \"))\n",
    "num2=int(input(\"Enter second number: \"))\n",
    "print(\"sum of given numbers: \",num1+num2)\n",
    "print(\"sum of given numbers: \",num1-num2)\n",
    "print(\"sum of given numbers: \",num1*num2)\n",
    "print(\"sum of given numbers: \",num1/num2)"
   ]
  },
  {
   "cell_type": "code",
   "execution_count": 11,
   "id": "917f7c02-e6c0-41f9-bc7e-9170717940de",
   "metadata": {},
   "outputs": [
    {
     "name": "stdout",
     "output_type": "stream",
     "text": [
      "Enter a sentences\n"
     ]
    },
    {
     "name": "stdin",
     "output_type": "stream",
     "text": [
      " Madivalappa V Baliger\n"
     ]
    },
    {
     "name": "stdout",
     "output_type": "stream",
     "text": [
      "Total number of words:  3\n",
      "Total number of character excluding white spaces:  19\n",
      "Total number of character including white spaces:  22\n"
     ]
    }
   ],
   "source": [
    "#1C\n",
    "print(\"Enter a sentences\")\n",
    "sen=input()\n",
    "\n",
    "word=sen.split()\n",
    "w_count=0\n",
    "ch_count=0\n",
    "for w in word:\n",
    "    w_count += 1\n",
    "    ch_count += len(w)\n",
    "\n",
    "print(\"Total number of words: \",w_count)\n",
    "print(\"Total number of character excluding white spaces: \",ch_count)\n",
    "print(\"Total number of character including white spaces: \",ch_count+w_count)"
   ]
  },
  {
   "cell_type": "code",
   "execution_count": 1,
   "id": "6d4a1ffa-50cd-449f-a327-6b7772bde500",
   "metadata": {},
   "outputs": [
    {
     "name": "stdout",
     "output_type": "stream",
     "text": [
      "Select type shape: \n",
      " 1. rect, 2. tri, 3. cir, 4. exit\n"
     ]
    },
    {
     "name": "stdin",
     "output_type": "stream",
     "text": [
      " 1\n",
      "Enter width of Rectangle:  2\n",
      "Enter length of Rectangle:  3\n"
     ]
    },
    {
     "name": "stdout",
     "output_type": "stream",
     "text": [
      "Area of rectangle:  6\n",
      "Select type shape: \n",
      " 1. rect, 2. tri, 3. cir, 4. exit\n"
     ]
    },
    {
     "name": "stdin",
     "output_type": "stream",
     "text": [
      " 2\n",
      "Enter base of triangle:  2\n",
      "Enter height of triangle:  3\n"
     ]
    },
    {
     "name": "stdout",
     "output_type": "stream",
     "text": [
      "Area of triangle:  3.0\n",
      "Select type shape: \n",
      " 1. rect, 2. tri, 3. cir, 4. exit\n"
     ]
    },
    {
     "name": "stdin",
     "output_type": "stream",
     "text": [
      " 3\n",
      "Enter radius of circle:  2\n"
     ]
    },
    {
     "name": "stdout",
     "output_type": "stream",
     "text": [
      "Area of circle:  12.568\n",
      "Select type shape: \n",
      " 1. rect, 2. tri, 3. cir, 4. exit\n"
     ]
    },
    {
     "name": "stdin",
     "output_type": "stream",
     "text": [
      " 4\n"
     ]
    },
    {
     "name": "stdout",
     "output_type": "stream",
     "text": [
      "Exiting the program.\n"
     ]
    }
   ],
   "source": [
    "while True:\n",
    "    print(\"Select type shape:\", \"\\n\", \"1. rect, 2. tri, 3. cir, 4. exit\")\n",
    "    ch = input()\n",
    "    if ch == '1':\n",
    "        w = int(input(\"Enter width of Rectangle: \"))\n",
    "        l = int(input(\"Enter length of Rectangle: \"))\n",
    "        area = l * w\n",
    "        print(\"Area of rectangle: \", area)\n",
    "    elif ch == '2':\n",
    "        b = int(input(\"Enter base of triangle: \"))\n",
    "        h = int(input(\"Enter height of triangle: \"))\n",
    "        areat = 0.5 * b * h\n",
    "        print(\"Area of triangle: \", areat)\n",
    "    elif ch == '3':\n",
    "        r = int(input(\"Enter radius of circle: \"))\n",
    "        areac = 3.142 * r * r\n",
    "        print(\"Area of circle: \", areac)\n",
    "    elif ch == '4':\n",
    "        print(\"Exiting the program.\")\n",
    "        break  # or use exit(0)\n",
    "    else:\n",
    "        print(\"Invalid input. Please select a valid option.\")\n"
   ]
  },
  {
   "cell_type": "code",
   "execution_count": 1,
   "id": "0b3a3990-6f1d-4ab1-89e2-660b77b6b24d",
   "metadata": {},
   "outputs": [
    {
     "name": "stdin",
     "output_type": "stream",
     "text": [
      "Enter your name madu\n",
      "Enter number how many times to print your name:  5\n"
     ]
    },
    {
     "name": "stdout",
     "output_type": "stream",
     "text": [
      "madu\n",
      "madu\n",
      "madu\n",
      "madu\n",
      "madu\n"
     ]
    }
   ],
   "source": [
    "#1E\n",
    "name = input(\"Enter your name: \")\n",
    "n=int(input(\"Enter number how many times to print your name: \"))\n",
    "for i in range(n):\n",
    "    print(name)"
   ]
  },
  {
   "cell_type": "code",
   "execution_count": 3,
   "id": "a39013bd-4cee-4b89-a373-e0ef439c3134",
   "metadata": {},
   "outputs": [
    {
     "name": "stdin",
     "output_type": "stream",
     "text": [
      "Enter a numerator:  5\n",
      "Enter a Denominator:  0\n"
     ]
    },
    {
     "name": "stdout",
     "output_type": "stream",
     "text": [
      "Division not possible\n"
     ]
    }
   ],
   "source": [
    "#1F\n",
    "m=int(input(\"Enter a numerator: \"))\n",
    "n=int(input(\"Enter a Denominator: \"))\n",
    "try:\n",
    "    result=m/n\n",
    "    print(\"The division of given number is: \",result)\n",
    "except ZeroDivisionError:\n",
    "    print(\"Division not possible\")\n"
   ]
  },
  {
   "cell_type": "code",
   "execution_count": null,
   "id": "8f559f87-ba5a-4676-963e-b74404f0497c",
   "metadata": {},
   "outputs": [
    {
     "name": "stdout",
     "output_type": "stream",
     "text": [
      "Local time:  Tue Apr 15 21:34:42 2025\n"
     ]
    }
   ],
   "source": [
    "#1G\n",
    "import time\n",
    "for i in range(10):\n",
    "    second=time.time()\n",
    "    local_time=time.ctime(second)\n",
    "    print(\"Local time: \",local_time)\n",
    "    time.sleep(100)\n"
   ]
  },
  {
   "cell_type": "code",
   "execution_count": 5,
   "id": "dd4613cb-c6d9-441a-86fb-02ee06bcf4db",
   "metadata": {},
   "outputs": [
    {
     "name": "stdout",
     "output_type": "stream",
     "text": [
      "Line 1 Number of words 3\n"
     ]
    }
   ],
   "source": [
    "#1H\n",
    "f=open('text.txt','r')\n",
    "lines=f.readlines()\n",
    "i=0\n",
    "for line in lines:\n",
    "    i+=1\n",
    "    count=len(line.split())\n",
    "    print(\"Line\",i,\"Number of words\",count)"
   ]
  },
  {
   "cell_type": "code",
   "execution_count": null,
   "id": "5997d4fd-2973-4beb-a307-ed622b4c6e0d",
   "metadata": {},
   "outputs": [],
   "source": []
  }
 ],
 "metadata": {
  "kernelspec": {
   "display_name": "Python [conda env:base] *",
   "language": "python",
   "name": "conda-base-py"
  },
  "language_info": {
   "codemirror_mode": {
    "name": "ipython",
    "version": 3
   },
   "file_extension": ".py",
   "mimetype": "text/x-python",
   "name": "python",
   "nbconvert_exporter": "python",
   "pygments_lexer": "ipython3",
   "version": "3.12.7"
  }
 },
 "nbformat": 4,
 "nbformat_minor": 5
}
